{
 "cells": [
  {
   "cell_type": "code",
   "execution_count": 1,
   "id": "7a241f31",
   "metadata": {},
   "outputs": [
    {
     "data": {
      "text/plain": [
       "<sqlite3.Connection at 0x2498c9556c0>"
      ]
     },
     "execution_count": 1,
     "metadata": {},
     "output_type": "execute_result"
    }
   ],
   "source": [
    "import sqlite3\n",
    "###Connecting to a SQLite database\n",
    "\n",
    "connection=sqlite3.connect('example.db')\n",
    "connection"
   ]
  },
  {
   "cell_type": "code",
   "execution_count": 3,
   "id": "4fe36924",
   "metadata": {},
   "outputs": [],
   "source": [
    "curssor=connection.cursor()\n",
    "\n",
    "#Creating a table\n",
    "curssor.execute('''\n",
    "Create Table If Not Exists employee(\n",
    "                id Integer Primary Key,\n",
    "                name Text Not Null,\n",
    "                age Integer,\n",
    "                department text\n",
    "                )   \n",
    "  ''')\n",
    "\n",
    "#Commiting changes\n",
    "connection.commit()"
   ]
  },
  {
   "cell_type": "code",
   "execution_count": 7,
   "id": "99180b1e",
   "metadata": {},
   "outputs": [],
   "source": [
    "curssor.execute('''\n",
    "Select * from employee\n",
    "                   \n",
    "  ''')\n",
    "\n",
    "#Inserting data in sqlite3\n",
    "curssor.execute('''\n",
    "Insert into employee(name,age,department)\n",
    "                values('Sidd',20,'Data Scientist fff')\n",
    "                \n",
    "                ''')\n",
    "\n",
    "curssor.execute('''\n",
    "Insert into employee(name,age,department)\n",
    "                values('wdwe',20,'crfc fqc fff')\n",
    "                \n",
    "                ''')\n",
    "\n",
    "curssor.execute('''\n",
    "Insert into employee(name,age,department)\n",
    "                values('jutjntn',20,'btjbeavgWE')\n",
    "                \n",
    "                ''')\n",
    "\n",
    "connection.commit()"
   ]
  },
  {
   "cell_type": "code",
   "execution_count": 11,
   "id": "87d8cee0",
   "metadata": {},
   "outputs": [
    {
     "name": "stdout",
     "output_type": "stream",
     "text": [
      "(1, 'Sidd', 29, 'Data Scientist fff')\n",
      "(2, 'wdwe', 20, 'crfc fqc fff')\n",
      "(3, 'jutjntn', 20, 'btjbeavgWE')\n",
      "(4, 'Sidd', 29, 'Data Scientist fff')\n",
      "(5, 'wdwe', 20, 'crfc fqc fff')\n",
      "(6, 'jutjntn', 20, 'btjbeavgWE')\n"
     ]
    }
   ],
   "source": [
    "#Quering the data from table\n",
    "\n",
    "curssor.execute('Select * from employee')\n",
    "rows=curssor.fetchall()\n",
    "\n",
    "for row in rows:\n",
    "    print(row)"
   ]
  },
  {
   "cell_type": "code",
   "execution_count": 12,
   "id": "5e69dc99",
   "metadata": {},
   "outputs": [
    {
     "name": "stdout",
     "output_type": "stream",
     "text": [
      "(1, 'Sidd', 29, 'Data Scientist fff')\n",
      "(2, 'wdwe', 20, 'crfc fqc fff')\n",
      "(3, 'jutjntn', 20, 'btjbeavgWE')\n",
      "(4, 'Sidd', 29, 'Data Scientist fff')\n",
      "(5, 'wdwe', 20, 'crfc fqc fff')\n",
      "(6, 'jutjntn', 20, 'btjbeavgWE')\n"
     ]
    }
   ],
   "source": [
    "#Updating data\n",
    "curssor.execute('''\n",
    "UPDATE employee\n",
    "Set age=29\n",
    "where name='Sidd'\n",
    "''' )\n",
    "connection.commit()\n",
    "\n",
    "curssor.execute('Select * from employee')\n",
    "rows=curssor.fetchall()\n",
    "\n",
    "for row in rows:\n",
    "    print(row)"
   ]
  },
  {
   "cell_type": "code",
   "execution_count": 14,
   "id": "a3182ff9",
   "metadata": {},
   "outputs": [
    {
     "name": "stdout",
     "output_type": "stream",
     "text": [
      "(2, 'wdwe', 20, 'crfc fqc fff')\n",
      "(3, 'jutjntn', 20, 'btjbeavgWE')\n",
      "(5, 'wdwe', 20, 'crfc fqc fff')\n",
      "(6, 'jutjntn', 20, 'btjbeavgWE')\n"
     ]
    }
   ],
   "source": [
    "curssor.execute('''\n",
    "Delete from employee\n",
    "                where name='Sidd'\n",
    "\n",
    "''')\n",
    "connection.commit()\n",
    "\n",
    "curssor.execute('Select * from employee')\n",
    "rows=curssor.fetchall()\n",
    "\n",
    "for row in rows:\n",
    "    print(row)\n"
   ]
  },
  {
   "cell_type": "code",
   "execution_count": null,
   "id": "bb2227a0",
   "metadata": {},
   "outputs": [
    {
     "ename": "OperationalError",
     "evalue": "table sales has no column named region",
     "output_type": "error",
     "traceback": [
      "\u001b[31m---------------------------------------------------------------------------\u001b[39m",
      "\u001b[31mOperationalError\u001b[39m                          Traceback (most recent call last)",
      "\u001b[36mCell\u001b[39m\u001b[36m \u001b[39m\u001b[32mIn[23]\u001b[39m\u001b[32m, line 43\u001b[39m\n\u001b[32m     19\u001b[39m sales_data = [\n\u001b[32m     20\u001b[39m     (\u001b[33m'\u001b[39m\u001b[33m2023-01-01\u001b[39m\u001b[33m'\u001b[39m, \u001b[33m'\u001b[39m\u001b[33mProduct A\u001b[39m\u001b[33m'\u001b[39m, \u001b[32m100\u001b[39m, \u001b[33m'\u001b[39m\u001b[33mNorth\u001b[39m\u001b[33m'\u001b[39m),\n\u001b[32m     21\u001b[39m     (\u001b[33m'\u001b[39m\u001b[33m2023-01-02\u001b[39m\u001b[33m'\u001b[39m, \u001b[33m'\u001b[39m\u001b[33mProduct B\u001b[39m\u001b[33m'\u001b[39m, \u001b[32m150\u001b[39m, \u001b[33m'\u001b[39m\u001b[33mSouth\u001b[39m\u001b[33m'\u001b[39m),\n\u001b[32m   (...)\u001b[39m\u001b[32m     39\u001b[39m     (\u001b[33m'\u001b[39m\u001b[33m2023-01-20\u001b[39m\u001b[33m'\u001b[39m, \u001b[33m'\u001b[39m\u001b[33mProduct B\u001b[39m\u001b[33m'\u001b[39m, \u001b[32m185\u001b[39m, \u001b[33m'\u001b[39m\u001b[33mWest\u001b[39m\u001b[33m'\u001b[39m),\n\u001b[32m     40\u001b[39m ]\n\u001b[32m     42\u001b[39m \u001b[38;5;66;03m# Insert data into the table\u001b[39;00m\n\u001b[32m---> \u001b[39m\u001b[32m43\u001b[39m \u001b[43mcursor\u001b[49m\u001b[43m.\u001b[49m\u001b[43mexecutemany\u001b[49m\u001b[43m(\u001b[49m\u001b[33;43m'''\u001b[39;49m\n\u001b[32m     44\u001b[39m \u001b[33;43mINSERT INTO sales (date, product, sales, region)\u001b[39;49m\n\u001b[32m     45\u001b[39m \u001b[33;43mVALUES (?, ?, ?, ?)\u001b[39;49m\n\u001b[32m     46\u001b[39m \u001b[33;43m'''\u001b[39;49m\u001b[43m,\u001b[49m\u001b[43m \u001b[49m\u001b[43msales_data\u001b[49m\u001b[43m)\u001b[49m\n\u001b[32m     48\u001b[39m \u001b[38;5;66;03m# Save and close\u001b[39;00m\n\u001b[32m     49\u001b[39m connectionn.commit()\n",
      "\u001b[31mOperationalError\u001b[39m: table sales has no column named region"
     ]
    }
   ],
   "source": [
    "import sqlite3\n",
    "\n",
    "# Connect to (or create) the database\n",
    "connectionn = sqlite3.connect('sales_data.db')\n",
    "cursor = connectionn.cursor()\n",
    "\n",
    "# Create the sales table\n",
    "cursor.execute('''\n",
    "CREATE TABLE IF NOT EXISTS sales(\n",
    "    id INTEGER PRIMARY KEY AUTOINCREMENT,\n",
    "    date TEXT NOT NULL,\n",
    "    product TEXT NOT NULL,\n",
    "    sales INTEGER,\n",
    "    region TEXT,\n",
    ")\n",
    "''')\n",
    "\n",
    "# Sample sales data\n",
    "sales_data = [\n",
    "    ('2023-01-01', 'Product A', 100, 'North'),\n",
    "    ('2023-01-02', 'Product B', 150, 'South'),\n",
    "    ('2023-01-03', 'Product C', 200, 'East'),\n",
    "    ('2023-01-04', 'Product A', 130, 'West'),\n",
    "    ('2023-01-05', 'Product B', 160, 'North'),\n",
    "    ('2023-01-06', 'Product C', 190, 'South'),\n",
    "    ('2023-01-07', 'Product A', 120, 'East'),\n",
    "    ('2023-01-08', 'Product B', 170, 'West'),\n",
    "    ('2023-01-09', 'Product C', 210, 'North'),\n",
    "    ('2023-01-10', 'Product A', 140, 'South'),\n",
    "    ('2023-01-11', 'Product B', 180, 'East'),\n",
    "    ('2023-01-12', 'Product C', 220, 'West'),\n",
    "    ('2023-01-13', 'Product A', 115, 'North'),\n",
    "    ('2023-01-14', 'Product B', 165, 'South'),\n",
    "    ('2023-01-15', 'Product C', 205, 'East'),\n",
    "    ('2023-01-16', 'Product A', 135, 'West'),\n",
    "    ('2023-01-17', 'Product B', 175, 'North'),\n",
    "    ('2023-01-18', 'Product C', 215, 'South'),\n",
    "    ('2023-01-19', 'Product A', 125, 'East'),\n",
    "    ('2023-01-20', 'Product B', 185, 'West'),\n",
    "]\n",
    "\n",
    "# Insert data into the table\n",
    "cursor.executemany('''\n",
    "INSERT INTO sales (date, product, sales, region)\n",
    "VALUES (?, ?, ?, ?)\n",
    "''', sales_data)\n",
    "\n",
    "# Save and close\n",
    "connectionn.commit()\n",
    "# connectionn.close()\n"
   ]
  }
 ],
 "metadata": {
  "kernelspec": {
   "display_name": "Python 3",
   "language": "python",
   "name": "python3"
  },
  "language_info": {
   "codemirror_mode": {
    "name": "ipython",
    "version": 3
   },
   "file_extension": ".py",
   "mimetype": "text/x-python",
   "name": "python",
   "nbconvert_exporter": "python",
   "pygments_lexer": "ipython3",
   "version": "3.12.0"
  }
 },
 "nbformat": 4,
 "nbformat_minor": 5
}
