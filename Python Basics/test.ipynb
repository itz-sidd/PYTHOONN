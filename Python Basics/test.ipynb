{
 "cells": [
  {
   "cell_type": "code",
   "execution_count": null,
   "id": "108c2296",
   "metadata": {},
   "outputs": [],
   "source": [
    "print(\"Hey\")"
   ]
  },
  {
   "cell_type": "code",
   "execution_count": null,
   "id": "3aea08f8",
   "metadata": {},
   "outputs": [],
   "source": [
    "##single line comments"
   ]
  },
  {
   "cell_type": "code",
   "execution_count": null,
   "id": "e3837817",
   "metadata": {},
   "outputs": [],
   "source": [
    "a=100\n",
    "age=32\n",
    "height=5.7\n",
    "name=\"Sidd\"\n",
    "is_laerner=True\n",
    "\n",
    "# print(\"age:\",age)\n",
    "\n",
    "first_name=\"Sidd\"\n",
    "second_name=\"hant\"\n",
    "\n",
    "print(first_name+second_name)\n",
    "print(type(height))\n",
    "int(float(height))\n",
    "agee=input(\"WHats the age\")\n",
    "print(age)"
   ]
  },
  {
   "cell_type": "code",
   "execution_count": null,
   "id": "875bec4f",
   "metadata": {},
   "outputs": [],
   "source": []
  },
  {
   "cell_type": "code",
   "execution_count": null,
   "id": "961b047b",
   "metadata": {},
   "outputs": [],
   "source": [
    "result=\"hey\"+str(5)\n",
    "print(result)\n",
    "\n"
   ]
  },
  {
   "cell_type": "code",
   "execution_count": null,
   "id": "f83f4c19",
   "metadata": {},
   "outputs": [],
   "source": [
    "a=10\n",
    "b=10\n",
    "res=a+b\n",
    "print(res)\n",
    "floor_div=a//b\n",
    "print(floor_div)"
   ]
  },
  {
   "cell_type": "code",
   "execution_count": null,
   "id": "0d79c8f7",
   "metadata": {},
   "outputs": [],
   "source": [
    "a=2\n",
    "b=2\n",
    "print(a==b)\n",
    "print(a!=b)"
   ]
  },
  {
   "cell_type": "code",
   "execution_count": null,
   "id": "7a569fc7",
   "metadata": {},
   "outputs": [],
   "source": [
    "age=10\n",
    "# agea=input(age)\n",
    "\n",
    "if age>20:\n",
    "    print(\"You are fully adult now\")\n",
    "else:\n",
    "    print(\"error\")"
   ]
  },
  {
   "cell_type": "code",
   "execution_count": null,
   "id": "ec41f90a",
   "metadata": {},
   "outputs": [],
   "source": [
    "age=26\n",
    "\n",
    "if age<13:\n",
    "    print(\"child\")\n",
    "elif age<18:\n",
    "    print(\"adult\")\n",
    "elif age>18 and age<25:\n",
    "    print(\"bachlore days\")\n",
    "else:\n",
    "    print(\"Hell days\")\n"
   ]
  },
  {
   "cell_type": "code",
   "execution_count": null,
   "id": "cd40011b",
   "metadata": {},
   "outputs": [],
   "source": [
    "# year=366\n",
    "\n",
    "# if year==365:\n",
    "#     print(\"regular year\")\n",
    "# else:\n",
    "#     print(\"leap year\")\n",
    "year=int(input(\"Enter the year\"))\n",
    "\n",
    "if(year%4==0):\n",
    "    if(year%100==0):\n",
    "        if(year%400==0):\n",
    "            print(\"leap year\")\n",
    "        else:\n",
    "            print(\"regular year\")\n"
   ]
  },
  {
   "cell_type": "code",
   "execution_count": null,
   "id": "59b0f52f",
   "metadata": {},
   "outputs": [],
   "source": [
    "num1=float(input(\"Enter a number\"))\n",
    "num2=float(input(\"Enter a number\"))\n",
    "operation=input(\"Enter an operation(+,-,*,/)\")\n",
    "\n",
    "if operation == '+':\n",
    "    result=num1+num2\n",
    "elif operation=='-':\n",
    "    result=num1-num2\n",
    "elif operation=='*':\n",
    "    result=num2*num2\n",
    "elif operation=='/':\n",
    "    if num2!=0:\n",
    "        result=num1/num2\n",
    "    else:\n",
    "        print(\"error\")\n",
    "else:\n",
    "    print(\"Invalid operation\")\n",
    "\n",
    "print(result)\n"
   ]
  },
  {
   "cell_type": "code",
   "execution_count": null,
   "id": "ec3d8bf0",
   "metadata": {},
   "outputs": [],
   "source": [
    "for i in range(1,10,5):\n",
    "    print(i)"
   ]
  },
  {
   "cell_type": "code",
   "execution_count": null,
   "id": "a82f0bd8",
   "metadata": {},
   "outputs": [],
   "source": [
    "str=\"Sidd hant\"\n",
    "for i in str:\n",
    "    print(i)"
   ]
  },
  {
   "cell_type": "code",
   "execution_count": null,
   "id": "18b87556",
   "metadata": {},
   "outputs": [],
   "source": [
    "count = 0\n",
    "\n",
    "while count<5:\n",
    "    print(count)\n",
    "    count=count+1\n",
    "\n",
    "count=0\n",
    "\n",
    "while count%2==0:\n",
    "    print(count)\n",
    "    count=count+1"
   ]
  },
  {
   "cell_type": "code",
   "execution_count": null,
   "id": "e7c1fdaf",
   "metadata": {},
   "outputs": [],
   "source": [
    "# for i in range(10):\n",
    "#     if i==5:\n",
    "#         break\n",
    "#     print(i)\n",
    "\n",
    "# for i in range(10):\n",
    "#     if i%2==0:\n",
    "#         continue\n",
    "#     print(i)\n",
    "\n",
    "for i in range(5):\n",
    "    if i==3:\n",
    "        pass\n",
    "    print(i)"
   ]
  },
  {
   "cell_type": "code",
   "execution_count": null,
   "id": "3140ca18",
   "metadata": {},
   "outputs": [],
   "source": [
    "for i in range(3):\n",
    "    for j in range(2):\n",
    "        print(f\"i:{i} and j:{j}\")"
   ]
  },
  {
   "cell_type": "code",
   "execution_count": null,
   "id": "4687d529",
   "metadata": {},
   "outputs": [],
   "source": [
    "n=10\n",
    "sum=0\n",
    "count=1\n",
    "\n",
    "while count<=n:\n",
    "    sum=sum+count\n",
    "    count=count+1\n",
    "\n",
    "print(sum)"
   ]
  },
  {
   "cell_type": "code",
   "execution_count": null,
   "id": "9d2b57d5",
   "metadata": {},
   "outputs": [],
   "source": [
    "n=10\n",
    "sum=0\n",
    "for i in range(11):\n",
    "    sum=sum+i\n",
    "print(sum)"
   ]
  },
  {
   "cell_type": "code",
   "execution_count": null,
   "id": "a2ddbc1d",
   "metadata": {},
   "outputs": [],
   "source": [
    "for num in range(1,101):\n",
    "    if num>1:\n",
    "        for i in range(2,num):\n",
    "            if num%i==0:\n",
    "                break\n",
    "        else:\n",
    "            print(num)\n",
    "        "
   ]
  },
  {
   "cell_type": "code",
   "execution_count": null,
   "id": "5829ffff",
   "metadata": {},
   "outputs": [],
   "source": [
    "# a=[]\n",
    "# print(type(a))\n",
    "\n",
    "# b=[\"Sidd\",\"Jack\",\"Max\",1,2,3]\n",
    "# print(b)\n",
    "\n",
    "# dd=[\"sd\",\"as\",\"ded\",\"sdc\",\"eca\"]\n",
    "# print(dd[-1])\n",
    "# print(dd[1:4])\n",
    "# dd[0]=\"wqw\"\n",
    "\n",
    "# dd[1:]=\"wertyu\"\n",
    "# # print(dd)\n",
    "# dd.append(\"kjl\")\n",
    "# # print(dd)\n",
    "# dd.remove(\"kjl\")\n",
    "# # print(dd)\n",
    "# # dd.pop()\n",
    "# dd=[\"sd\",\"as\",\"ded\",\"sdc\",\"eca\"]\n",
    "# d=dd.index(\"as\")\n",
    "# # d=dd.index(3,\"erere\")\n",
    "# print(d)\n",
    "# dd.clear()\n",
    "\n",
    "# num=[1,2,3,4,5,6,7,8,9,10]\n",
    "# # print(num[::-2])\n",
    "# # for i in num:\n",
    "# #     print(num)\n",
    "# for index,numb in enumerate(num):\n",
    "#     print(num)"
   ]
  },
  {
   "cell_type": "code",
   "execution_count": null,
   "id": "dd655272",
   "metadata": {},
   "outputs": [],
   "source": [
    "# list=[]\n",
    "# for x in range(10):\n",
    "#     list.append(x**2)\n",
    "\n",
    "# print(list)\n",
    "\n",
    "# sq=[num**2 for num in range(10)]\n",
    "# print(sq)\n",
    "\n",
    "# lst=[]\n",
    "# for i in range(10):\n",
    "#     if i%2==0:\n",
    "#         lst.append(i)\n",
    "\n",
    "# print(lst)\n",
    "\n",
    "\n",
    "# en=[num for num in range(10) if num%2==0]\n",
    "# print(en)\n",
    "\n",
    "lst1=[1,2,3,4]\n",
    "lst2=['a','b','c','d']\n",
    "pair=[[i,j] for i in lst1 for j in lst2]\n",
    "print(pair)"
   ]
  },
  {
   "cell_type": "code",
   "execution_count": null,
   "id": "09bbf0fd",
   "metadata": {},
   "outputs": [],
   "source": [
    "# lst=list()\n",
    "# print(type(lst))\n",
    "# tpl=tuple()\n",
    "# print(type(tpl))\n",
    "\n",
    "# num=tuple([1,2,3])\n",
    "# num\n",
    "\n",
    "mixed_tuple=(1,\"Hello montana\",2.2,True)\n",
    "print(mixed_tuple)"
   ]
  },
  {
   "cell_type": "code",
   "execution_count": null,
   "id": "7e8e6f9f",
   "metadata": {},
   "outputs": [],
   "source": [
    "num[0:4]\n",
    "num[::-1]"
   ]
  },
  {
   "cell_type": "code",
   "execution_count": null,
   "id": "d70f9766",
   "metadata": {},
   "outputs": [],
   "source": [
    "concat = num + mixed_tuple\n",
    "concat\n",
    "\n",
    "mixed_tuple * 3\n",
    "num * 3"
   ]
  },
  {
   "cell_type": "code",
   "execution_count": null,
   "id": "8c597dc1",
   "metadata": {},
   "outputs": [],
   "source": [
    "# print(num.count(1))\n",
    "# print(num.index(3))\n",
    "\n",
    "#packing\n",
    "pack_tup=1,\"hh\",3.2\n",
    "print(pack_tup)\n",
    "\n",
    "#unpacking\n",
    "a,b,c=pack_tup\n",
    "print(a)\n",
    "print(b)\n",
    "print(c)\n",
    "\n",
    "#with *\n",
    "nn=(1,2,3,4,5,6)\n",
    "first,*middle,last=nn\n",
    "print(first)\n",
    "print(middle)\n",
    "print(last)"
   ]
  },
  {
   "cell_type": "code",
   "execution_count": null,
   "id": "339d8dca",
   "metadata": {},
   "outputs": [],
   "source": [
    "lst=[[1,2,3],[4,5,6],[1,\"gtg\",4.34,\"dd\"]]\n",
    "lst[1][0:3]"
   ]
  },
  {
   "cell_type": "code",
   "execution_count": null,
   "id": "44c841a7",
   "metadata": {},
   "outputs": [],
   "source": [
    "nes_tup=((1,2,3),(\"a\",\"b\",\"c\"),(True,False))\n",
    "print(nes_tup[::-1])\n",
    "\n",
    "for subtup in nes_tup:\n",
    "    for item in subtup:\n",
    "        print(item,end=\" \")\n",
    "    print()"
   ]
  },
  {
   "cell_type": "code",
   "execution_count": null,
   "id": "dda1ace9",
   "metadata": {},
   "outputs": [],
   "source": [
    "my_set={1,2,3,4,5}\n",
    "print(type(my_set))\n",
    "print(my_set)"
   ]
  },
  {
   "cell_type": "code",
   "execution_count": null,
   "id": "dea380d5",
   "metadata": {},
   "outputs": [],
   "source": [
    "mm=set([1,2,3,4,5])\n",
    "print(mm)\n",
    "print(type(mm))"
   ]
  },
  {
   "cell_type": "code",
   "execution_count": null,
   "id": "cac8ac6e",
   "metadata": {},
   "outputs": [],
   "source": [
    "# mm.add(6)\n",
    "# print(mm)\n",
    "# mm.remove(1)\n",
    "# print(mm)\n",
    "removeselement=mm.pop()\n",
    "print(removeselement)\n",
    "mm.clear()\n",
    "print(mm)"
   ]
  },
  {
   "cell_type": "code",
   "execution_count": null,
   "id": "3a976397",
   "metadata": {},
   "outputs": [],
   "source": [
    "# nn={1,2,3,4,5}\n",
    "# print(2 in nn)\n",
    "\n",
    "set1={1,2,3,4,5,6}\n",
    "set2={4,5,6,7,8,9}\n",
    "# unionset=set1.union(set2)\n",
    "unionset=set1 and set2\n",
    "print(unionset)\n",
    "\n",
    "set1.intersection_update(set2)\n",
    "print(set1)\n",
    "\n",
    "set1.difference(set2)\n",
    "print(set1)"
   ]
  },
  {
   "cell_type": "code",
   "execution_count": null,
   "id": "785ce2f0",
   "metadata": {},
   "outputs": [],
   "source": [
    "set1={1,2,3}\n",
    "seet2={4,5,6}\n",
    "print(set1.issubset(seet2))\n",
    "\n",
    "lst=[1,2,3,4]\n",
    "set(lst)"
   ]
  },
  {
   "cell_type": "code",
   "execution_count": null,
   "id": "d282235a",
   "metadata": {},
   "outputs": [],
   "source": [
    "text=\"there are many words to get split here\"\n",
    "words=text.split()\n",
    "unq_words=set(words)\n",
    "print(unq_words)"
   ]
  },
  {
   "cell_type": "code",
   "execution_count": null,
   "id": "545008c3",
   "metadata": {},
   "outputs": [],
   "source": [
    "# emptdisct={}\n",
    "# print(type(emptdisct))\n",
    "\n",
    "st={\"name\":\"Sid\",\"age\":19,\"sem\":4}\n",
    "print(st)"
   ]
  },
  {
   "cell_type": "code",
   "execution_count": null,
   "id": "f0482cff",
   "metadata": {},
   "outputs": [],
   "source": [
    "st={\"name\":\"Sid\",\"age\":19,\"sem\":4,\"grade\":'A'}\n",
    "print(st['name'])\n",
    "print(st['age'])\n",
    "print(st.get('sem'))\n",
    "print(st.get('aa','Not available'))"
   ]
  },
  {
   "cell_type": "code",
   "execution_count": null,
   "id": "728cc652",
   "metadata": {},
   "outputs": [],
   "source": [
    "st['age']=21\n",
    "print(st)\n",
    "st['address']=\"Odisha\"\n",
    "print(st)"
   ]
  },
  {
   "cell_type": "code",
   "execution_count": null,
   "id": "032aa2f2",
   "metadata": {},
   "outputs": [],
   "source": [
    "keys=st.keys()\n",
    "print(keys)\n",
    "values=st.values()\n",
    "print(values)\n",
    "item=st.items()\n",
    "print(item)"
   ]
  },
  {
   "cell_type": "code",
   "execution_count": null,
   "id": "edf2ceeb",
   "metadata": {},
   "outputs": [],
   "source": [
    "stcopy=st\n",
    "print(st)\n",
    "print(stcopy)\n",
    "st['name']=\"sristi\"\n",
    "print(st)\n",
    "print(stcopy)"
   ]
  },
  {
   "cell_type": "code",
   "execution_count": null,
   "id": "500ab3e7",
   "metadata": {},
   "outputs": [],
   "source": [
    "stcopy1=stcopy.copy()\n",
    "print(stcopy)\n",
    "stcopy['name']='XSA'\n",
    "print(stcopy)\n",
    "print(stcopy1)"
   ]
  },
  {
   "cell_type": "code",
   "execution_count": null,
   "id": "d1004cf9",
   "metadata": {},
   "outputs": [],
   "source": [
    "# for values in st:\n",
    "#     print(values)\n",
    "\n",
    "for key,values in st.items():\n",
    "    print(f\"{key}:{values}\")"
   ]
  },
  {
   "cell_type": "code",
   "execution_count": null,
   "id": "211fa946",
   "metadata": {},
   "outputs": [],
   "source": [
    "stu={\n",
    "    \"stu1\":{\"name\":\"Sidd\",\"age\":20},\n",
    "    \"stu2\":{\"name\":\"Max\",\"age\":12}\n",
    "}\n",
    "\n",
    "print(stu[\"stu1\"][\"age\"])\n",
    "print(stu[\"stu2\"][\"age\"])\n",
    "\n",
    "st.items()"
   ]
  },
  {
   "cell_type": "code",
   "execution_count": null,
   "id": "b07e600e",
   "metadata": {},
   "outputs": [],
   "source": [
    "for stu_id,stu_info in stu.items():\n",
    "    print(f\"{stu_id}:{stu_info}\")\n",
    "    for key,values in stu_info.items():\n",
    "        print(f\"{key}:{values}\")"
   ]
  },
  {
   "cell_type": "code",
   "execution_count": null,
   "id": "d543b2a8",
   "metadata": {},
   "outputs": [],
   "source": [
    "sq={x:x**2 for x in range(10)}\n",
    "print(sq)\n",
    "\n",
    "sqeven={x:x**2 for x in range(10) if x%2==0}\n",
    "print(sqeven)"
   ]
  },
  {
   "cell_type": "code",
   "execution_count": null,
   "id": "449c79d7",
   "metadata": {},
   "outputs": [],
   "source": [
    "nums=[1,2,2,3,3,3,4,4,4,4]\n",
    "freq={}\n",
    "\n",
    "for nu in nums:\n",
    "    if nu in freq:\n",
    "        freq[nu]+=1\n",
    "    else:\n",
    "        freq[nu]=1\n",
    "print(freq)"
   ]
  },
  {
   "cell_type": "code",
   "execution_count": null,
   "id": "6d7f1897",
   "metadata": {},
   "outputs": [],
   "source": [
    "d1={\"a\":1,\"b\":2}\n",
    "d2={\"c\":3,\"d\":4}\n",
    "mm={**d1,**d2}\n",
    "print(mm)"
   ]
  },
  {
   "cell_type": "code",
   "execution_count": null,
   "id": "5bd3d68b",
   "metadata": {},
   "outputs": [],
   "source": [
    "todolist=[\"Buy groceries\",\"Clean the house\",\"Pay bills\"]\n",
    "\n",
    "todolist.append(\"Scheduled meeting\")\n",
    "todolist.append(\"Go for a run\")\n",
    "\n",
    "todolist.remove(\"Clean the house\")\n",
    "\n",
    "if \"Pay bills\" in todolist:\n",
    "    print(\"Dont forgot to pay utility bills\")\n",
    "\n",
    "print(\"To do list remaining\")\n",
    "for task in todolist:\n",
    "    print(f\"-{task}\")"
   ]
  },
  {
   "cell_type": "code",
   "execution_count": null,
   "id": "81d241c8",
   "metadata": {},
   "outputs": [],
   "source": [
    "grades=[85,92,78,90,88]\n",
    "\n",
    "grades.append(95)\n",
    "\n",
    "avg_grade=sum(grades)/len(grades)\n",
    "print(f\"Average Grade: {avg_grade:.2f}\")\n",
    "\n",
    "hig_grade=max(grades)\n",
    "low_grade=min(grades)\n",
    "print(f\"Highest Grade: {hig_grade}\")\n",
    "print(f\"Lower Grade: {low_grade}\")"
   ]
  },
  {
   "cell_type": "code",
   "execution_count": null,
   "id": "64adaf24",
   "metadata": {},
   "outputs": [],
   "source": [
    "feedback=[\"Great service\",\"Very satisfied\",\"Could be better\",\"Excellent\"]\n",
    "feedback.append(\"Not good\")\n",
    "\n",
    "pos_feedback_cnt=sum(1 for comment in feedback if \"great\" in comment.lower() or \"excellent\" in comment.lower())\n",
    "print(f\"Positive Feedback count: {pos_feedback_cnt}\")\n",
    "print(\"User feedback:\")\n",
    "for comm in feedback:\n",
    "    print(f\"-{comm}\")\n"
   ]
  },
  {
   "cell_type": "code",
   "execution_count": null,
   "id": "6d8d0203",
   "metadata": {},
   "outputs": [],
   "source": [
    "def fun(self):\n",
    "    return \"Hy\"\n",
    "\n",
    "print(fun)"
   ]
  },
  {
   "cell_type": "code",
   "execution_count": null,
   "id": "a8fbf2ab",
   "metadata": {},
   "outputs": [],
   "source": [
    "def evenorodd(num):\n",
    "    \"\"\"This Function finds even or odd\"\"\"\n",
    "    if num%2==0:\n",
    "        print(\"even\")\n",
    "    else:\n",
    "        print(\"odd\")\n",
    "\n",
    "evenorodd(32)"
   ]
  },
  {
   "cell_type": "code",
   "execution_count": null,
   "id": "b158d647",
   "metadata": {},
   "outputs": [],
   "source": [
    "# def add(a,b):\n",
    "#     c=a+b\n",
    "#     return c\n",
    "\n",
    "# add(2,3)\n",
    "\n",
    "def greet(name=\"xyz\"):\n",
    "    print(f\"Hello {name} How are you!\")\n",
    "\n",
    "greet(\"sidd\")\n",
    "greet()\n"
   ]
  },
  {
   "cell_type": "code",
   "execution_count": null,
   "id": "a0524d04",
   "metadata": {},
   "outputs": [],
   "source": [
    "# def pr_num(*sidd):#sidd=args\n",
    "#     for num in sidd:\n",
    "#         print(num)\n",
    "\n",
    "# pr_num(1,2,3,4,5,6,7,8,\"sdd\")\n",
    "\n",
    "# def pdetails(**sidd):#sidd=kwargs\n",
    "#     for key,val in sidd.items():\n",
    "#         print(f\"{key}:{val}\")\n",
    "\n",
    "# pdetails(name=\"Sidd\",age=19,country=\"India\")\n",
    "\n",
    "def pdet(*args,**kwargs):\n",
    "    for val in args:\n",
    "        print(f\"Positional argument:{val}\")\n",
    "\n",
    "    for key,val in kwargs.items():\n",
    "        print(f\"{key}:{val}\")\n",
    "\n",
    "\n",
    "pdet(1,2,3,\"AAWW\",name=\"sid\",age=122,city=\"delhi\")\n"
   ]
  },
  {
   "cell_type": "code",
   "execution_count": null,
   "id": "73b4c00b",
   "metadata": {},
   "outputs": [],
   "source": [
    "def mul(a,c,b):\n",
    "    # return a*b*c\n",
    "    return (a*b*c)/c\n",
    "\n",
    "mul(1,2,3)"
   ]
  },
  {
   "cell_type": "code",
   "execution_count": null,
   "id": "9ec25995",
   "metadata": {},
   "outputs": [],
   "source": [
    "def conv_temp(temp,unit):\n",
    "    \"\"\"This function converts temperature between celcius and farenhite\"\"\"\n",
    "    if unit=='C':\n",
    "        return temp * 9/5 +32\n",
    "    elif unit=='F':\n",
    "        return (temp-32)* 5/9\n",
    "    else:\n",
    "        return \"Enter correcct values\"\n",
    "    \n",
    "print(conv_temp(23,'C'))\n",
    "print(conv_temp(78,'F'))\n",
    "\n",
    "    "
   ]
  },
  {
   "cell_type": "code",
   "execution_count": null,
   "id": "1630e0f0",
   "metadata": {},
   "outputs": [],
   "source": [
    "def is_strpass(password):\n",
    "    \"\"\"This function checks if password is strong or not\"\"\"\n",
    "    if len(password)<8:\n",
    "        return False\n",
    "    print(\"Enter a valid password\")\n",
    "    if not any(char.isdigit() for char in password):\n",
    "        return False\n",
    "    print(\"Enter a valid password\")\n",
    "    if not any(char.islower() for char in password):\n",
    "        return False\n",
    "    if not any(char.isupper() for char in password):\n",
    "        return False\n",
    "    if not any(int for int in password):\n",
    "        return False\n",
    "    print(\"Add an integer\")\n",
    "    return True\n",
    "\n",
    "print(is_strpass(\"Weak\"))\n",
    "print(is_strpass(\"StrongPwd!112\"))"
   ]
  },
  {
   "cell_type": "code",
   "execution_count": null,
   "id": "77d21fd5",
   "metadata": {},
   "outputs": [],
   "source": [
    "def cacl_totalcost(cart):\n",
    "    totalcost = 0\n",
    "    for item in cart:\n",
    "        totalcost+=item['price']*item['quantity']\n",
    "\n",
    "    return totalcost\n",
    "\n",
    "\n",
    "cart=[\n",
    "    {'name':'appple','price':10,'quantity':12},\n",
    "    {'name':'banana','price':5,'quantity':24},\n",
    "    {'name':'papaya','price':20,'quantity':32}\n",
    "]\n",
    "\n",
    "totalcost=cacl_totalcost(cart)\n",
    "print(totalcost)"
   ]
  },
  {
   "cell_type": "code",
   "execution_count": null,
   "id": "5429c5e5",
   "metadata": {},
   "outputs": [],
   "source": [
    "def is_palin(s):\n",
    "    s=s.lower().replace(\" \",\" \")\n",
    "    return s==s[::-1]\n",
    "\n",
    "print(is_palin(\"A man a plan a canal Panama\"))\n",
    "print(is_palin(\"dddasccdaa\"))"
   ]
  },
  {
   "cell_type": "code",
   "execution_count": null,
   "id": "1df8d4d3",
   "metadata": {},
   "outputs": [],
   "source": [
    "def fact(n):\n",
    "    if n==0:\n",
    "        return 1\n",
    "    else:\n",
    "        return n*fact(n-1)\n",
    "    \n",
    "print(fact(5))"
   ]
  },
  {
   "cell_type": "code",
   "execution_count": null,
   "id": "7d899685",
   "metadata": {},
   "outputs": [],
   "source": [
    "def count_word_freq(file_path):\n",
    "    word_count={}\n",
    "    with open(file_path,'r') as file:\n",
    "        for line in file:\n",
    "            words=line.split()\n",
    "            for word in words:\n",
    "                word=word.lower().strip('.,!?;:\"\\'')\n",
    "                word_count[word]=word_count.get(word,0)+1\n",
    "\n",
    "    return word_count\n",
    "\n",
    "filepath='sample.txt'\n",
    "word_freq=count_word_freq(filepath)\n",
    "print(word_freq)"
   ]
  },
  {
   "cell_type": "code",
   "execution_count": null,
   "id": "b4e9f93d",
   "metadata": {},
   "outputs": [],
   "source": [
    "# def addn(a,b):\n",
    "#     return a+b\n",
    "\n",
    "# addn(3,2)\n",
    "\n",
    "# addn=lambda a,b:a+b\n",
    "# type(addn)\n",
    "# print(addn(2,1))\n",
    "\n",
    "# def even(a):\n",
    "#     if a%2==0:\n",
    "#         return True\n",
    "# even(22)\n",
    "\n",
    "# ss=lambda a:a%2==0\n",
    "# print(ss(22))\n",
    "\n",
    "# def add(x,y,z):\n",
    "#     return x+y+z\n",
    "\n",
    "add=lambda x,y,z:x+y+z\n",
    "print(add(1,2,3))"
   ]
  },
  {
   "cell_type": "code",
   "execution_count": null,
   "id": "97134e40",
   "metadata": {},
   "outputs": [],
   "source": [
    "num=[1,2,3,4,5,6]\n",
    "# def sq(num):\n",
    "#     return num**2\n",
    "\n",
    "# sq(3)\n",
    "\n",
    "list(map(lambda x:x**2,num))"
   ]
  },
  {
   "cell_type": "code",
   "execution_count": null,
   "id": "7652a965",
   "metadata": {},
   "outputs": [],
   "source": [
    "# def sq(x):\n",
    "#     return x*x\n",
    "# sq(2)\n",
    "nn=[1,2,3,4,5,6,7,8,9,10]\n",
    "# for num in nn:\n",
    "#     print(num**2)\n",
    "# list(map(sq,nn))\n",
    "list(map(lambda x:x**2,nn))\n",
    "\n",
    "    "
   ]
  },
  {
   "cell_type": "code",
   "execution_count": null,
   "id": "2c4b3d91",
   "metadata": {},
   "outputs": [],
   "source": [
    "# nb1=[1,2,3]\n",
    "# nb2=[4,5,6]\n",
    "\n",
    "# added_num=list(map(lambda x,y:x+y,nb1,nb2))\n",
    "# print(added_num)\n",
    "\n",
    "strnum=['1','2','4','7']\n",
    "intnum=list(map(int,strnum))\n",
    "print(intnum)\n",
    "\n",
    "words=['apply','sedlife','fuclinhappy']\n",
    "upperword=list(map(str.upper,words))\n",
    "print(upperword)"
   ]
  },
  {
   "cell_type": "code",
   "execution_count": null,
   "id": "9eafe2ef",
   "metadata": {},
   "outputs": [],
   "source": [
    "def get_name(person):\n",
    "    return person['name']\n",
    "\n",
    "people=[\n",
    "    {'name':'sidd','age':24},\n",
    "    {'name':'sazer','age':900}\n",
    "]\n",
    "list(map(get_name,people))"
   ]
  },
  {
   "cell_type": "code",
   "execution_count": null,
   "id": "ca32175f",
   "metadata": {},
   "outputs": [],
   "source": [
    "# def even(num):\n",
    "#     if num%2==0:\n",
    "#         return True\n",
    "# even(80)\n",
    "\n",
    "# lst=[1,2,3,4,5,6,7,8,9,10,11,12]\n",
    "# list(filter(even,lst))\n",
    "\n",
    "# numb=[1,2,3,4,5,6,7,8,9]\n",
    "# greater_than_five=list(filter(lambda x:x>5,numb))\n",
    "# print(greater_than_five)\n",
    "\n",
    "# numm=[1,2,3,4,5,6,7,8,9]\n",
    "# even_and_greater_thanfive=list(filter(lambda x:x>5 and x%2==0,numm))\n",
    "# print(even_and_greater_thanfive)\n",
    "\n",
    "\n"
   ]
  },
  {
   "cell_type": "code",
   "execution_count": null,
   "id": "07f3fd40",
   "metadata": {},
   "outputs": [],
   "source": [
    "people=[\n",
    "    {'name':'sidd','age':24},\n",
    "    {'name':'sazer','age':900},\n",
    "    {'name':'zyan','age':2}\n",
    "]\n",
    "\n",
    "def age_greater_than3(person):\n",
    "    return person['age']>3\n",
    "\n",
    "list(filter(age_greater_than3,people))"
   ]
  },
  {
   "cell_type": "code",
   "execution_count": null,
   "id": "30271f9e",
   "metadata": {},
   "outputs": [],
   "source": [
    "import math\n",
    "math.sqrt(9)"
   ]
  },
  {
   "cell_type": "code",
   "execution_count": null,
   "id": "63d0a24d",
   "metadata": {},
   "outputs": [],
   "source": [
    "from math import sqrt,pi\n",
    "print(sqrt(121))\n",
    "print(pi)"
   ]
  },
  {
   "cell_type": "code",
   "execution_count": null,
   "id": "13e3077c",
   "metadata": {},
   "outputs": [],
   "source": [
    "# import numpy as np\n",
    "# np.array([1,2,3,4])\n",
    "\n",
    "from math import *\n",
    "print(sqrt(81))"
   ]
  },
  {
   "cell_type": "code",
   "execution_count": null,
   "id": "f5f068e7",
   "metadata": {},
   "outputs": [],
   "source": [
    "from package.maths import addn,subn\n",
    "addn(2,3)\n",
    "subn(3,2)\n"
   ]
  },
  {
   "cell_type": "code",
   "execution_count": null,
   "id": "cb9bb0f9",
   "metadata": {},
   "outputs": [],
   "source": [
    "# import array\n",
    "# ar=array.array('i',[1,2,3])\n",
    "# print(ar)\n",
    "\n",
    "import random\n",
    "print(random.randint(1,10))\n",
    "print(random.choice(['appy','coke','budwiser','mcd']))"
   ]
  },
  {
   "cell_type": "code",
   "execution_count": null,
   "id": "43a3bd09",
   "metadata": {},
   "outputs": [],
   "source": [
    "import os\n",
    "print(os.getcwd())\n",
    "\n",
    "os.mkdir('test_dir')"
   ]
  },
  {
   "cell_type": "code",
   "execution_count": null,
   "id": "ee5d669d",
   "metadata": {},
   "outputs": [],
   "source": [
    "# for copying one file to another\n",
    "import shutil\n",
    "shutil.copyfile('source.txt','destination.txt')"
   ]
  },
  {
   "cell_type": "code",
   "execution_count": null,
   "id": "fe80be32",
   "metadata": {},
   "outputs": [],
   "source": [
    "# from json file to dict and vice versa\n",
    "import json\n",
    "data={'name':'Sidd','age':20}\n",
    "\n",
    "json_str = json.dumps(data)\n",
    "print(json_str)\n",
    "print(type(json_str))\n",
    "\n",
    "parsed_data = json.loads(json_str)\n",
    "print(parsed_data)\n",
    "print(type(parsed_data))"
   ]
  },
  {
   "cell_type": "code",
   "execution_count": null,
   "id": "f1beef52",
   "metadata": {},
   "outputs": [],
   "source": [
    "# csv\n",
    "\n",
    "import csv\n",
    "with open('example.csv',mode='w',newline='') as file:\n",
    "    writer = csv.writer(file)\n",
    "    writer.writerow(['name','age'])\n",
    "    writer.writerow(['SIdd',2211203])\n",
    "\n",
    "with open('example.csv',mode='r') as file:\n",
    "    reader = csv.reader(file)\n",
    "    for row in reader:\n",
    "        print(row)\n",
    "\n"
   ]
  },
  {
   "cell_type": "code",
   "execution_count": null,
   "id": "e4063e8c",
   "metadata": {},
   "outputs": [],
   "source": [
    "from datetime import datetime,timedelta\n",
    "\n",
    "now=datetime.now()\n",
    "print(now)\n",
    "\n",
    "yesterday=now-timedelta(days=1)\n",
    "print(yesterday)\n",
    "\n"
   ]
  },
  {
   "cell_type": "code",
   "execution_count": null,
   "id": "d2c4bbd1",
   "metadata": {},
   "outputs": [],
   "source": [
    "import time\n",
    "print(time.time())\n",
    "time.sleep(4)\n",
    "print(time.time())"
   ]
  },
  {
   "cell_type": "code",
   "execution_count": null,
   "id": "5a5fce07",
   "metadata": {},
   "outputs": [],
   "source": [
    "# Regular expression\n",
    "\n",
    "import re\n",
    "\n",
    "pattern = r'\\d+'\n",
    "text = 'There are 123 apples'\n",
    "match = re.search(pattern,text)\n",
    "print(match.group())"
   ]
  },
  {
   "cell_type": "code",
   "execution_count": null,
   "id": "32e7e85b",
   "metadata": {},
   "outputs": [],
   "source": [
    "class Car:\n",
    "    pass\n",
    "\n",
    "chelini=Car()\n",
    "chervo=Car()\n",
    "\n",
    "print(type(chelini))\n",
    "\n",
    "print(chervo)\n",
    "print(chelini)"
   ]
  },
  {
   "cell_type": "code",
   "execution_count": null,
   "id": "d5502859",
   "metadata": {},
   "outputs": [],
   "source": [
    "# with open('example.txt','r') as file:\n",
    "#     content = file.read()\n",
    "#     print(content)\n",
    "\n",
    "with open('example.txt','r') as file:\n",
    "    for line in file:\n",
    "        # print(line)\n",
    "        print(line.strip())\n"
   ]
  },
  {
   "cell_type": "code",
   "execution_count": null,
   "id": "deca9004",
   "metadata": {},
   "outputs": [],
   "source": [
    "#Overwriting happens here\n",
    "with open('example.txt','w') as file :\n",
    "    file.write('Hello Sidd\\n')\n",
    "    file.write('This is a new line\\n')"
   ]
  },
  {
   "cell_type": "code",
   "execution_count": null,
   "id": "59933f8e",
   "metadata": {},
   "outputs": [],
   "source": [
    "with open('example.txt','a' )as file:\n",
    "    file.write(\"Appennding a text\\n\")\n",
    "    file.write(\"Why using append as a\")\n",
    "\n",
    "with open('example.txt','r') as file:\n",
    "    for line in file:\n",
    "        print(line.strip())"
   ]
  },
  {
   "cell_type": "code",
   "execution_count": null,
   "id": "24466476",
   "metadata": {},
   "outputs": [],
   "source": [
    "lines=['\\nFirst line\\n','Second line\\n','Third line\\n']\n",
    "with open('example.txt','a') as file:\n",
    "    file.writelines(lines)"
   ]
  },
  {
   "cell_type": "code",
   "execution_count": null,
   "id": "ddf5e609",
   "metadata": {},
   "outputs": [],
   "source": [
    "data = b'\\x00\\x01\\x02\\x03\\x04'\n",
    "with open('example.bin','wb') as file:\n",
    "    file.write(data)\n",
    "\n",
    "    \n",
    "with open('example.bin','rb') as file:\n",
    "    content=file.read()\n",
    "    print(content)"
   ]
  },
  {
   "cell_type": "code",
   "execution_count": null,
   "id": "c69f5617",
   "metadata": {},
   "outputs": [],
   "source": [
    "def count_text_file(file_path):\n",
    "    with open(file_path,'r') as file:\n",
    "        lines=file.readlines()\n",
    "        line_count=len(lines)\n",
    "        word_count=sum(len(line.split()) for line in lines)\n",
    "        char_count=sum(len(line) for line in lines)\n",
    "    return line_count,word_count,char_count\n",
    "\n",
    "file_path='example.txt'\n",
    "lines,words,characters=count_text_file(file_path)\n",
    "print(f'Lines:{lines},Words:{words},Characters:{characters}')"
   ]
  },
  {
   "cell_type": "code",
   "execution_count": null,
   "id": "d1b32898",
   "metadata": {},
   "outputs": [],
   "source": [
    "with open('example.txt','w+')as file:\n",
    "    file.write('Hey Sanmika\\n')\n",
    "    file.write('New lines added\\n')\n",
    "\n",
    "\n",
    "    file.seek(0)\n",
    "\n",
    "    newcontent=file.read()\n",
    "    print(newcontent)"
   ]
  },
  {
   "cell_type": "code",
   "execution_count": null,
   "id": "b181768a",
   "metadata": {},
   "outputs": [],
   "source": [
    "import os\n",
    "new_dir=\"packages\"\n",
    "#os.mkdir(new_dir)\n",
    "print(f\"Directory '{new_dir}' create\")\n",
    "\n",
    "items=os.listdir('.')\n",
    "# print(items)\n",
    "\n",
    "dir_name=\"folder\"\n",
    "file_name=\"file.txt\"\n",
    "# full_path=os.path.join(dir_name,file_name)\n",
    "full_path=os.path.join(os.getcwd(),dir_name,file_name)\n",
    "print(full_path)"
   ]
  },
  {
   "cell_type": "code",
   "execution_count": null,
   "id": "66282b88",
   "metadata": {},
   "outputs": [],
   "source": [
    "path='example1.txt'\n",
    "if os.path.exists(path):\n",
    "    print(f\"The path '{path}' exists\")\n",
    "else:\n",
    "    print(f\"The path '{path}' doesn't exists\")"
   ]
  },
  {
   "cell_type": "code",
   "execution_count": null,
   "id": "61e8a80e",
   "metadata": {},
   "outputs": [],
   "source": [
    "path='example1.txt'\n",
    "if os.path.isfile(path):\n",
    "    print(f\"The path '{path}' is a file\")\n",
    "elif os.path.isdir(path):\n",
    "    print(f\"The path '{path}' is a directory\")\n",
    "else:\n",
    "    print(f\"The path '{path}' doesn't exists n nothing\")"
   ]
  },
  {
   "cell_type": "code",
   "execution_count": null,
   "id": "0489aad3",
   "metadata": {},
   "outputs": [],
   "source": [
    "relative_path='example.txt'\n",
    "absolute_path=os.path.abspath(relative_path)\n",
    "print(absolute_path)"
   ]
  },
  {
   "cell_type": "code",
   "execution_count": null,
   "id": "60296312",
   "metadata": {},
   "outputs": [],
   "source": [
    "class Car:\n",
    "    pass\n",
    "\n",
    "audi=Car()\n",
    "chervol=Car()\n",
    "\n",
    "print(type(audi))\n",
    "print(chervol)\n",
    "\n",
    "audi.windows=4\n",
    "print(audi.windows)\n",
    "\n",
    "tata=Car()\n",
    "tata.doors=4\n",
    "print(tata.doors)\n"
   ]
  },
  {
   "cell_type": "code",
   "execution_count": null,
   "id": "7c2a60c3",
   "metadata": {},
   "outputs": [],
   "source": [
    "# dir(tata)\n",
    "#__init__=constructor\n",
    "\n",
    "class Dog:\n",
    "    def __init__(self,name,age):\n",
    "        self.name=name\n",
    "        self.age=age\n",
    "\n",
    "dog1=Dog('Husky',3)\n",
    "print(dog1)\n",
    "print(dog1.name,dog1.age)"
   ]
  },
  {
   "cell_type": "code",
   "execution_count": null,
   "id": "ca1df15c",
   "metadata": {},
   "outputs": [],
   "source": [
    "class Dog:\n",
    "    def __init__(self,name,age):\n",
    "        self.name=name\n",
    "        self.age=age\n",
    "\n",
    "    def bark(self):#Instance method\n",
    "        print(f\"{self.name} says woof\")\n",
    "\n",
    "dog1=Dog('Lamaaala',4)\n",
    "dog1.bark()\n",
    "dog2=Dog('Ohoo',4)\n",
    "dog2.bark()\n",
    "\n"
   ]
  },
  {
   "cell_type": "code",
   "execution_count": null,
   "id": "dd198ce8",
   "metadata": {},
   "outputs": [],
   "source": [
    "# Modelling a bank account\n",
    "\n",
    "class BankAccount:\n",
    "    def __init__(self,owner,balance=0):\n",
    "        self.owner=owner\n",
    "        self.balance=balance\n",
    "\n",
    "    def deposit(self,amount):\n",
    "        self.balance+=amount\n",
    "        print(f\"{amount} is deposited . New balance is {self.balance}\")\n",
    "\n",
    "    def withdraw(self,amount):\n",
    "        if amount>self.balance:\n",
    "            print(\"insufficient funds! \")\n",
    "        else:\n",
    "            self.balance-=amount\n",
    "            print(f\"{amount} is withdrawn . New balance is {self.balance}\")\n",
    "\n",
    "    def get_balance(self):\n",
    "        return self.balance\n",
    "\n",
    "\n",
    "account=BankAccount(\"Sidd\",10000)\n",
    "print(account.balance,account.owner)\n",
    "account.deposit(100)\n",
    "account.withdraw(1000)\n",
    "account.get_balance()\n"
   ]
  },
  {
   "cell_type": "code",
   "execution_count": null,
   "id": "87374a0e",
   "metadata": {},
   "outputs": [],
   "source": [
    "# INHERITENCE\n",
    "\n",
    "class Car:\n",
    "    def __init__(self,windows,doors,enginetype='BS-4'):\n",
    "        self.windows=windows\n",
    "        self.doors=doors\n",
    "        self.enginetype=enginetype\n",
    "\n",
    "    def drive(self):\n",
    "        print(f\"The person will drive the {self.enginetype} car\")\n",
    "\n",
    "\n",
    "car1=Car(4,5,\"Petrol\")\n",
    "# print(car1.doors)\n",
    "# car1.drive()\n",
    "        \n",
    "class Tesla(Car):\n",
    "    def __init__(self, windows, doors, enginetype,is_self_driving):\n",
    "        super().__init__(windows, doors, enginetype)\n",
    "        self.is_self_driving=is_self_driving\n",
    "\n",
    "    def self_driving(self):\n",
    "        print(f\"Tesla supports self driving : {self.is_self_driving}\")\n",
    "\n",
    "tesla1=Tesla(4,4,\"electric\",True)\n",
    "print(tesla1.is_self_driving)\n",
    "tesla1.self_driving()"
   ]
  },
  {
   "cell_type": "code",
   "execution_count": null,
   "id": "87a0a1b0",
   "metadata": {},
   "outputs": [],
   "source": [
    "# class Animal:\n",
    "#     def __init__(self,name):\n",
    "#         self.name=name\n",
    "\n",
    "# class Pet: \n",
    "#     def speak(self,owner):\n",
    "#         self.owner=owner\n",
    "\n",
    "# class Dog(Animal,Pet):\n",
    "#     def __init__(self,name,owner):\n",
    "#         Animal.__init__(self,name)\n",
    "#         Pet.__init__(self,owner)\n",
    "        \n",
    "#     def speak(self):\n",
    "#         return f\"{self.name} says woof\"\n",
    "    \n",
    "# # dogg=Dog(\"Husk\",\"Sidd\")\n",
    "# # print(dogg.speak())"
   ]
  },
  {
   "cell_type": "code",
   "execution_count": null,
   "id": "c775913e",
   "metadata": {},
   "outputs": [],
   "source": [
    "class Animal:\n",
    "    def speak(self):\n",
    "        return \"Sound of the animal\"\n",
    "    \n",
    "class Dog(Animal):\n",
    "    def speak(self):\n",
    "        return \"Wooof!\"\n",
    "    \n",
    "class Cat(Animal):\n",
    "    def speak(self):\n",
    "        return \"Meow!\"\n",
    "    \n",
    "def animal_speak(animal):\n",
    "    print(animal.speak())\n",
    "    \n",
    "dog=Dog()\n",
    "cat=Cat()\n",
    "print(dog.speak())\n",
    "print(cat.speak())\n",
    "animal_speak(dog)"
   ]
  },
  {
   "cell_type": "code",
   "execution_count": null,
   "id": "dc29fc5d",
   "metadata": {},
   "outputs": [],
   "source": [
    "class Shape:\n",
    "    def area(self):\n",
    "        return \"The area of the figure\"\n",
    "    \n",
    "class Rectangle(Shape):\n",
    "    def __init__(self,width,height):\n",
    "        self.width=width\n",
    "        self.height=height\n",
    "\n",
    "    def area(self):\n",
    "        return self.width * self.height\n",
    "    \n",
    "class Circle(Shape):\n",
    "    def __init__(self,radius):\n",
    "        self.radius=radius\n",
    "\n",
    "    def area(self):\n",
    "        return 3.14 * self.radius * self.radius\n",
    "    \n",
    "def print_area(shape):\n",
    "    print(f\"The area is {shape.area()}\")\n",
    "\n",
    "rectangle=Rectangle(3,5)\n",
    "circle=Circle(2)\n",
    "\n",
    "print(rectangle,\"\",circle)\n",
    "\n",
    "print_area(rectangle)\n",
    "print_area(circle)"
   ]
  },
  {
   "cell_type": "code",
   "execution_count": null,
   "id": "ec98432e",
   "metadata": {},
   "outputs": [],
   "source": [
    "# from abc import ABC,abstractmethod\n",
    "\n",
    "# class Vehicle(ABC):\n",
    "#     @abstractmethod\n",
    "#     def start_engine(self):\n",
    "#         pass\n",
    "\n",
    "# class Car(Vehicle):\n",
    "#     def start_engine(self):\n",
    "#         return \"Car engine started\"\n",
    "    \n",
    "# class Motorcycle(Vehicle):\n",
    "#     def start_engine(self):\n",
    "#         return \"Motorcycle engine started\"\n",
    "    \n",
    "# def start_vehicle(vehicle):\n",
    "#     print(vehicle.start_engine())\n",
    "    \n",
    "# car=Car()\n",
    "# Motorcycle=Motorcycle()\n",
    "\n",
    "# start_vehicle(car)"
   ]
  },
  {
   "cell_type": "code",
   "execution_count": null,
   "id": "45308e8c",
   "metadata": {},
   "outputs": [],
   "source": [
    "#Encapsulation\n",
    "#Public,Protected,Private\n",
    "\n",
    "# class Person:\n",
    "#     def __init__(self,name,age):\n",
    "#         self.name=name    #public variables\n",
    "#         self.age=age\n",
    "\n",
    "# def get_name(person):\n",
    "#         return person.name\n",
    "\n",
    "# person=Person(\"kk\",22)\n",
    "# get_name(person)\n",
    "# print(person.name,\"\",person.age)\n",
    "\n",
    "\n",
    "# dir(person)\n",
    "\n",
    "# class Person:\n",
    "#     def __init__(self,name,age,gender):\n",
    "#         self.__name=name    #private variables cant be accessed outsuide of class\n",
    "#         self.__age=age\n",
    "#         self.gender=gender\n",
    "\n",
    "# def get_name(person):\n",
    "#         return person.__name\n",
    "\n",
    "# person=Person(\"KKKK\",33,\"Male\")\n",
    "# dir(person)\n",
    "# get_name(person)\n",
    "        "
   ]
  },
  {
   "cell_type": "code",
   "execution_count": null,
   "id": "28dd324c",
   "metadata": {},
   "outputs": [],
   "source": [
    "# class Person:\n",
    "#     def __init__(self,name,age,gender):\n",
    "#         self._name=name    #protected variables can be accessed in derived class\n",
    "#         self._age=age\n",
    "#         self.gender=gender\n",
    "\n",
    "# class Emp(Person):\n",
    "#      def __init__(self, name, age, gender):\n",
    "#           super().__init__(name, age, gender)\n",
    "\n",
    "\n",
    "# employee=Emp(\"ooo\",76,'Female')\n",
    "# print(employee._name)\n",
    "\n"
   ]
  },
  {
   "cell_type": "code",
   "execution_count": null,
   "id": "5238a84f",
   "metadata": {},
   "outputs": [],
   "source": [
    "# class Person:\n",
    "#     def __init__(self,name,age):\n",
    "#         self.__name=name\n",
    "#         self.__age=age\n",
    "\n",
    "#     def get_name(self,name):\n",
    "#         return self.__name\n",
    "    \n",
    "#     def set_name(self,name):\n",
    "#         self.__name=name\n",
    "\n",
    "#     def get_age(self,age):\n",
    "#         return self.__age\n",
    "    \n",
    "#     def set_age(self,age):\n",
    "#         if age>0:\n",
    "#             self.__age=age\n",
    "#         else:\n",
    "#             print(\"Age cannot be negative .\")\n",
    "\n",
    "# person=Person(\"AKA\",21)\n",
    "# print(person.get_name())\n",
    "# print(person.get_age())\n",
    "\n"
   ]
  },
  {
   "cell_type": "code",
   "execution_count": null,
   "id": "ce871f69",
   "metadata": {},
   "outputs": [],
   "source": [
    "from abc import ABC,abstractmethod\n",
    "\n",
    "class Vehicle(ABC):\n",
    "    def drive(self):\n",
    "        print('The vehicle is used for driving')\n",
    "\n",
    "        @abstractmethod\n",
    "        def start_engine(self):\n",
    "            pass\n",
    "\n",
    "class Car(Vehicle):\n",
    "    def start_engine(self):\n",
    "        print(\"Car enginr started\")\n",
    "\n",
    "def operate_vehicle(vehicle):\n",
    "    vehicle.start_engine()\n",
    "    vehicle.drive()\n",
    "\n",
    "car=Car()\n",
    "operate_vehicle(car)"
   ]
  },
  {
   "cell_type": "code",
   "execution_count": null,
   "id": "5accbc6b",
   "metadata": {},
   "outputs": [],
   "source": [
    "# class Person:\n",
    "#     pass\n",
    "\n",
    "# # dir(person)\n",
    "# print(person)\n",
    "class Person:\n",
    "    def __init__(self,name,age):\n",
    "        self.name=name \n",
    "        self.age=age\n",
    "\n",
    "    def __str__(self):\n",
    "        return f\"{self.name},{self.age} years old\"\n",
    "    \n",
    "    def __repr__(self):\n",
    "        return f\"Person(name={self.name},age={self.age})\"\n",
    "person=Person(\"WER\",34)\n",
    "print(person)\n",
    "print(repr(person))\n"
   ]
  },
  {
   "cell_type": "code",
   "execution_count": null,
   "id": "09ce052b",
   "metadata": {},
   "outputs": [],
   "source": [
    "#Operator Overloading\n",
    "\n",
    "class vector:\n",
    "    def __init__(self,x,y):\n",
    "        self.x=x\n",
    "        self.y=y\n",
    "\n",
    "    def __add__(self,other):\n",
    "        return vector(self.x+other.x,self.y+other.y)\n",
    "\n",
    "    def __sub__(self,other):\n",
    "        return vector(self.x-other.x,self.y-other.y)\n",
    "    \n",
    "    def __mul__(self,other):\n",
    "        return vector(self.x*other.x,self.y*other.y)\n",
    "    \n",
    "    def __eq__(self,other):\n",
    "        return self.x == other.x , self.y == other.y\n",
    "    \n",
    "    def __repr__(self):\n",
    "        return f\"Vector({self.x} , {self.y})\"\n",
    "    \n",
    "v1=vector(2,3)\n",
    "v2=vector(4,5)\n",
    "\n",
    "print(v1-v2)\n",
    "print(v1*v2)\n",
    "print(v1+v2)\n",
    "print(v1-v2)"
   ]
  },
  {
   "cell_type": "code",
   "execution_count": null,
   "id": "0a07eb0a",
   "metadata": {},
   "outputs": [],
   "source": [
    "class ComplexNum:\n",
    "    def __init__(self,real,img):\n",
    "        self.real=real\n",
    "        self.img=img\n",
    "\n",
    "    def __add__(self,other):\n",
    "        return ComplexNum(self.real+other.real,self.img+other.img)\n",
    "    \n",
    "    def __sub__(self,other):\n",
    "        return ComplexNum(self.real-other.real,self.img-other.img)\n",
    "    \n",
    "    def __mul__(self,other):\n",
    "        real_part = self.real*other.real - self.img*other.img\n",
    "        img_part  = self.real*other.real + self.img*other.img\n",
    "        return ComplexNum(real_part,img_part)\n",
    "\n",
    "    \n",
    "    def __truediv__(self,other):\n",
    "        denominator = other.real**2+other.img**2\n",
    "        real_part = (self.real*other.real + self.img*other.img)/denominator\n",
    "        img_part = (self.real*other.real - self.img*other.img)/denominator\n",
    "        return ComplexNum(real_part,img_part)\n",
    "    \n",
    "    def __eq__(self,other):\n",
    "        return self.real == other.real and self.img == other.img\n",
    "\n",
    "    def __repr__(self):\n",
    "        return f\"{self.real} + {self.img}i\"\n",
    "    \n",
    "c1=ComplexNum(2,3)\n",
    "c2=ComplexNum(1,4)\n",
    "    \n",
    "print(c1+c2)\n",
    "print(c1-c2)\n",
    "print(c1*c2)\n",
    "print(c1/c2)\n",
    "print(c1==c2)\n",
    "\n",
    "    "
   ]
  },
  {
   "cell_type": "code",
   "execution_count": null,
   "id": "710db7c9",
   "metadata": {},
   "outputs": [],
   "source": [
    "class Error:\n",
    "    pass\n",
    "\n",
    "class dobException(Error):\n",
    "    pass"
   ]
  },
  {
   "cell_type": "code",
   "execution_count": null,
   "id": "cc94a70b",
   "metadata": {},
   "outputs": [],
   "source": [
    "year=int(input(\"Enter the dob\"))\n",
    "age=2024-year\n",
    "\n",
    "\n",
    "try:\n",
    "    if age<=30 and age>=20:\n",
    "        print(\"The age is valid so you can apply for the exam\")\n",
    "    else:\n",
    "        raise dobException\n",
    "except dobException:\n",
    "    print(\"Sorry,your age should be greater than 20 and less than 30\")"
   ]
  },
  {
   "cell_type": "code",
   "execution_count": null,
   "id": "fd75385f",
   "metadata": {},
   "outputs": [],
   "source": [
    "my_list=[1,2,3,4,5,6]\n",
    "# for i in my_list:\n",
    "#     print(i)\n",
    "\n",
    "# type(my_list)\n",
    "\n",
    "iterator=iter(my_list)\n",
    "type(iterator)"
   ]
  },
  {
   "cell_type": "code",
   "execution_count": null,
   "id": "c0c565e0",
   "metadata": {},
   "outputs": [],
   "source": []
  },
  {
   "cell_type": "code",
   "execution_count": null,
   "id": "218d76a3",
   "metadata": {},
   "outputs": [],
   "source": [
    "# iterator\n",
    "# next(iterator)\n",
    "\n",
    "# try:\n",
    "#     print(next(iterator))\n",
    "# except StopIteration:\n",
    "#     print(\"There are no elements in the iterator\")\n",
    "\n",
    "mY_string=\"hello\"\n",
    "string_iterator=iter(mY_string)\n",
    "\n",
    "print(next(string_iterator))\n",
    "print(next(string_iterator))\n",
    "\n",
    "\n",
    "\n",
    "\n"
   ]
  },
  {
   "cell_type": "code",
   "execution_count": null,
   "id": "5a8254fc",
   "metadata": {},
   "outputs": [],
   "source": [
    "#Generators are subclass of iterators\n",
    "\n",
    "def sq(n):\n",
    "    for i in range(3):\n",
    "        yield i**2\n",
    "    \n",
    "sq(3)"
   ]
  },
  {
   "cell_type": "code",
   "execution_count": null,
   "id": "1e765813",
   "metadata": {},
   "outputs": [],
   "source": [
    "for i in sq(3):\n",
    "    print(i)"
   ]
  },
  {
   "cell_type": "code",
   "execution_count": null,
   "id": "cc4b5307",
   "metadata": {},
   "outputs": [],
   "source": [
    "def my_generator():\n",
    "    yield 1\n",
    "    yield 2\n",
    "    yield 3\n",
    "\n",
    "gen=my_generator()\n",
    "gen\n",
    "\n",
    "# next(gen)\n",
    "\n",
    "for val in gen:\n",
    "    print(val)"
   ]
  },
  {
   "cell_type": "code",
   "execution_count": null,
   "id": "e841d7eb",
   "metadata": {},
   "outputs": [],
   "source": [
    "def read_large_file(file_path):\n",
    "    with open(file_path,'r') as file:\n",
    "        for line in file:\n",
    "            yield line"
   ]
  },
  {
   "cell_type": "code",
   "execution_count": null,
   "id": "58c6aea3",
   "metadata": {},
   "outputs": [],
   "source": [
    "file_path='large_file.txt'\n",
    "\n",
    "for line in read_large_file(file_path):\n",
    "    print(line.strip())\n"
   ]
  },
  {
   "cell_type": "code",
   "execution_count": null,
   "id": "7d1baf70",
   "metadata": {},
   "outputs": [],
   "source": [
    "def Welcome():\n",
    "    return \"Welcome to the advance cycle\"\n",
    "\n",
    "Welcome()"
   ]
  },
  {
   "cell_type": "code",
   "execution_count": null,
   "id": "e238c263",
   "metadata": {},
   "outputs": [],
   "source": [
    "# wel=Welcome\n",
    "# print((wel))\n",
    "# del welcome\n",
    "# print(wel())\n",
    "\n",
    "def main_welcome():\n",
    "    msg=\"Welcome\"\n",
    "    def sub_welcome_methhod():\n",
    "        print(\"Welcome to the advance stage of life\")\n",
    "\n",
    "        print(\"Please spend time efficiently\")\n",
    "    return sub_welcome_methhod()"
   ]
  },
  {
   "cell_type": "code",
   "execution_count": null,
   "id": "c4f47e9f",
   "metadata": {},
   "outputs": [],
   "source": [
    "main_welcome()"
   ]
  },
  {
   "cell_type": "code",
   "execution_count": null,
   "id": "0aaa7b02",
   "metadata": {},
   "outputs": [],
   "source": [
    "###Decorator\n",
    "\n",
    "def main_welcome(func):\n",
    "    def sub_welcome_method():\n",
    "        print(\"welcome to the advance python course\")\n",
    "        func(\"Welcome everyone to this site\")\n",
    "        print(\"Please register before starting\")\n",
    "    return sub_welcome_method()"
   ]
  },
  {
   "cell_type": "code",
   "execution_count": null,
   "id": "4aa78092",
   "metadata": {},
   "outputs": [],
   "source": [
    "def course_intrp():\n",
    "    print(\"This is advanced course\")\n",
    "\n",
    "course_intrp()"
   ]
  },
  {
   "cell_type": "code",
   "execution_count": null,
   "id": "9b0cec37",
   "metadata": {},
   "outputs": [],
   "source": [
    "@main_welcome\n",
    "def course_intrp():\n",
    "    print(\"This is advanced course\")"
   ]
  },
  {
   "cell_type": "code",
   "execution_count": null,
   "id": "f1b8096a",
   "metadata": {},
   "outputs": [],
   "source": [
    "def my_decorator(func):\n",
    "    def wrapper():\n",
    "        print(\"something fishy\")\n",
    "        func()\n",
    "        print(\"Nothing is fishy\")\n",
    "    return wrapper()"
   ]
  },
  {
   "cell_type": "code",
   "execution_count": null,
   "id": "35223951",
   "metadata": {},
   "outputs": [],
   "source": [
    "@my_decorator\n",
    "def say_hello():\n",
    "    print('Hello!')"
   ]
  },
  {
   "cell_type": "code",
   "execution_count": 6,
   "id": "4a769a25",
   "metadata": {},
   "outputs": [
    {
     "ename": "NameError",
     "evalue": "name 'say_hello' is not defined",
     "output_type": "error",
     "traceback": [
      "\u001b[31m---------------------------------------------------------------------------\u001b[39m",
      "\u001b[31mNameError\u001b[39m                                 Traceback (most recent call last)",
      "\u001b[36mCell\u001b[39m\u001b[36m \u001b[39m\u001b[32mIn[6]\u001b[39m\u001b[32m, line 1\u001b[39m\n\u001b[32m----> \u001b[39m\u001b[32m1\u001b[39m \u001b[43msay_hello\u001b[49m()\n",
      "\u001b[31mNameError\u001b[39m: name 'say_hello' is not defined"
     ]
    }
   ],
   "source": [
    "say_hello()"
   ]
  },
  {
   "cell_type": "code",
   "execution_count": 7,
   "id": "210543b4",
   "metadata": {},
   "outputs": [],
   "source": [
    "def repeat(n):\n",
    "    def decorator(func):\n",
    "        def wrapper(*args,**kwargs):\n",
    "            for _ in range(n):\n",
    "                func(*args,**kwargs)\n",
    "            return wrapper\n",
    "        return decorator"
   ]
  },
  {
   "cell_type": "code",
   "execution_count": 9,
   "id": "beda4827",
   "metadata": {},
   "outputs": [
    {
     "ename": "TypeError",
     "evalue": "'NoneType' object is not callable",
     "output_type": "error",
     "traceback": [
      "\u001b[31m---------------------------------------------------------------------------\u001b[39m",
      "\u001b[31mTypeError\u001b[39m                                 Traceback (most recent call last)",
      "\u001b[36mCell\u001b[39m\u001b[36m \u001b[39m\u001b[32mIn[9]\u001b[39m\u001b[32m, line 1\u001b[39m\n\u001b[32m----> \u001b[39m\u001b[32m1\u001b[39m \u001b[38;5;129;43m@repeat\u001b[39;49m\u001b[43m(\u001b[49m\u001b[32;43m3\u001b[39;49m\u001b[43m)\u001b[49m\n\u001b[32m      2\u001b[39m \u001b[38;5;28;43;01mdef\u001b[39;49;00m\u001b[38;5;250;43m \u001b[39;49m\u001b[34;43msay_hlo\u001b[39;49m\u001b[43m(\u001b[49m\u001b[43m)\u001b[49m\u001b[43m:\u001b[49m\n\u001b[32m      3\u001b[39m \u001b[43m    \u001b[49m\u001b[38;5;28;43mprint\u001b[39;49m\u001b[43m(\u001b[49m\u001b[33;43m\"\u001b[39;49m\u001b[33;43mHello\u001b[39;49m\u001b[33;43m\"\u001b[39;49m\u001b[43m)\u001b[49m\n\u001b[32m      5\u001b[39m say_hlo()\n",
      "\u001b[31mTypeError\u001b[39m: 'NoneType' object is not callable"
     ]
    }
   ],
   "source": [
    "@repeat(3)\n",
    "def say_hlo():\n",
    "    print(\"Hello\")\n",
    "\n",
    "say_hlo()"
   ]
  },
  {
   "cell_type": "code",
   "execution_count": 10,
   "id": "2c4d0bd7",
   "metadata": {},
   "outputs": [
    {
     "ename": "NameError",
     "evalue": "name 'say_hlo' is not defined",
     "output_type": "error",
     "traceback": [
      "\u001b[31m---------------------------------------------------------------------------\u001b[39m",
      "\u001b[31mNameError\u001b[39m                                 Traceback (most recent call last)",
      "\u001b[36mCell\u001b[39m\u001b[36m \u001b[39m\u001b[32mIn[10]\u001b[39m\u001b[32m, line 1\u001b[39m\n\u001b[32m----> \u001b[39m\u001b[32m1\u001b[39m \u001b[43msay_hlo\u001b[49m()\n",
      "\u001b[31mNameError\u001b[39m: name 'say_hlo' is not defined"
     ]
    }
   ],
   "source": [
    "say_hlo()"
   ]
  },
  {
   "cell_type": "code",
   "execution_count": null,
   "id": "08ce9611",
   "metadata": {},
   "outputs": [],
   "source": []
  },
  {
   "cell_type": "code",
   "execution_count": null,
   "id": "c28fe39d",
   "metadata": {},
   "outputs": [],
   "source": []
  },
  {
   "cell_type": "code",
   "execution_count": null,
   "id": "5f12389f",
   "metadata": {},
   "outputs": [],
   "source": []
  }
 ],
 "metadata": {
  "kernelspec": {
   "display_name": "Python 3",
   "language": "python",
   "name": "python3"
  },
  "language_info": {
   "codemirror_mode": {
    "name": "ipython",
    "version": 3
   },
   "file_extension": ".py",
   "mimetype": "text/x-python",
   "name": "python",
   "nbconvert_exporter": "python",
   "pygments_lexer": "ipython3",
   "version": "3.12.0"
  }
 },
 "nbformat": 4,
 "nbformat_minor": 5
}
